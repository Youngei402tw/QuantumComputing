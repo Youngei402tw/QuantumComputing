{
 "cells": [
  {
   "cell_type": "code",
   "execution_count": 1,
   "id": "165b9cb7",
   "metadata": {},
   "outputs": [],
   "source": [
    "# initialization\n",
    "import random\n",
    "import matplotlib.pyplot as plt\n",
    "import numpy as np\n",
    "\n",
    "# importing Qiskit\n",
    "from qiskit import IBMQ, Aer\n",
    "from qiskit.providers.ibmq import least_busy\n",
    "from qiskit import QuantumCircuit, ClassicalRegister, QuantumRegister, transpile, assemble\n",
    "\n",
    "# import basic plot tools\n",
    "from qiskit.visualization import plot_histogram"
   ]
  },
  {
   "cell_type": "code",
   "execution_count": 10,
   "id": "49ac499e",
   "metadata": {},
   "outputs": [
    {
     "name": "stdout",
     "output_type": "stream",
     "text": [
      "['0', '11', '001', '0110']\n"
     ]
    }
   ],
   "source": [
    "#generate 4 random secret binary string of size from 1~4\n",
    "sList=[]\n",
    "for i in range(1, 5): #loop i from 1~4\n",
    "    key=str(bin(random.getrandbits(i))[2:]) #generate a key with i bits, [2:0] is used to format the return string from getrandbits(i)\n",
    "    j=len(key) #get the length of the key\n",
    "    while j<i:#add padding in front of the key if the length is not equal to i\n",
    "        key='0'+key\n",
    "        j+=1\n",
    "    sList.append(key) # append the key to the list\n",
    "print(sList)"
   ]
  },
  {
   "cell_type": "code",
   "execution_count": 3,
   "id": "850b7f50",
   "metadata": {},
   "outputs": [],
   "source": [
    "#initialize n qubits, with an addition auxiliary qubit\n",
    "#we also need n bits to store the results\n",
    "def buildQTcirc(inputString):\n",
    "    n=len(inputString)\n",
    "    circuit=QuantumCircuit(n+1, n)\n",
    "\n",
    "    #put auxiliary qubit in state |->\n",
    "    circuit.h(n)\n",
    "    circuit.z(n)\n",
    "\n",
    "    #apply Hadmard gates before querying the oracle\n",
    "    #put rest of the qubits in state |+>\n",
    "    for i in range(n):\n",
    "        circuit.h(i)\n",
    "\n",
    "    #apply a barrier\n",
    "    circuit.barrier()    \n",
    "\n",
    "    #oracle\n",
    "    temp=inputString[::-1]#reverse input string for qiskit's qubit ordering\n",
    "    for q in range(n):\n",
    "        if temp[q]=='1':\n",
    "            circuit.cx(q, n) #apply CNOT\n",
    "\n",
    "    #apply a barrier\n",
    "    circuit.barrier()\n",
    "\n",
    "    #apply Hadmard gates after querying the oracle\n",
    "    for i in range(n):\n",
    "        circuit.h(i)\n",
    "\n",
    "    #measure the qubits onto classical bits    \n",
    "    for i in range(n):\n",
    "        circuit.measure(i, i)\n",
    "        \n",
    "    return circuit"
   ]
  },
  {
   "cell_type": "code",
   "execution_count": 11,
   "id": "6a595abd",
   "metadata": {},
   "outputs": [
    {
     "name": "stdout",
     "output_type": "stream",
     "text": [
      "0\n",
      "11\n",
      "001\n",
      "0110\n",
      "[{'0': 1024}, {'11': 1024}, {'001': 1024}, {'0110': 1024}]\n",
      "[0.03690052032470703, 0.0026428699493408203, 0.0029518604278564453, 0.0030183792114257812]\n"
     ]
    }
   ],
   "source": [
    "#use local simulator to simulate quantum circuit with various size\n",
    "timeList_sim=[]\n",
    "answerList_sim=[]\n",
    "for s in sList:\n",
    "    print(s)\n",
    "    circuit=buildQTcirc(s) #construct circuit\n",
    "    aer_sim=Aer.get_backend('aer_simulator') #set backend as simulator\n",
    "    circ_sim=transpile(circuit, aer_sim)#transpile the circuit\n",
    "    results_sim=aer_sim.run(circ_sim).result()#get the results of the circuit execution\n",
    "    answer_sim=results_sim.get_counts()#get the counts of the results\n",
    "    time_sim=results_sim.time_taken #get the time taken of the circuit execution\n",
    "    timeList_sim.append(time_sim) #append the time taken to the List\n",
    "    answerList_sim.append(answer_sim)\n",
    "print(answerList_sim)\n",
    "print(timeList_sim)"
   ]
  },
  {
   "cell_type": "code",
   "execution_count": 6,
   "id": "cdf3b44b",
   "metadata": {},
   "outputs": [
    {
     "data": {
      "text/plain": [
       "<AccountProvider for IBMQ(hub='ibm-q', group='open', project='main')>"
      ]
     },
     "execution_count": 6,
     "metadata": {},
     "output_type": "execute_result"
    }
   ],
   "source": [
    "# Load our saved IBMQ accounts and get the least busy backend device with less than or equal to 5 qubits\n",
    "IBMQ.load_account()"
   ]
  },
  {
   "cell_type": "code",
   "execution_count": 13,
   "id": "cfacec42",
   "metadata": {},
   "outputs": [
    {
     "name": "stdout",
     "output_type": "stream",
     "text": [
      "ibmq_manila                  ibmq_quito                   ibmq_belem\n",
      "-----------                  ----------                   ----------\n",
      "Num. Qubits:  5              Num. Qubits:  5              Num. Qubits:  5\n",
      "Pending Jobs: 48             Pending Jobs: 29             Pending Jobs: 21\n",
      "Least busy:   False          Least busy:   False          Least busy:   False\n",
      "Operational:  True           Operational:  True           Operational:  True\n",
      "Avg. T1:      154.8          Avg. T1:      103.5          Avg. T1:      88.4\n",
      "Avg. T2:      57.8           Avg. T2:      127.5          Avg. T2:      94.0\n",
      "\n",
      "\n",
      "\n",
      "ibmq_lima                    ibmq_bogota                  ibmq_armonk\n",
      "---------                    -----------                  -----------\n",
      "Num. Qubits:  5              Num. Qubits:  5              Num. Qubits:  1\n",
      "Pending Jobs: 20             Pending Jobs: 58             Pending Jobs: 1\n",
      "Least busy:   False          Least busy:   False          Least busy:   True\n",
      "Operational:  True           Operational:  True           Operational:  True\n",
      "Avg. T1:      105.8          Avg. T1:      96.5           Avg. T1:      235.7\n",
      "Avg. T2:      123.5          Avg. T2:      125.1          Avg. T2:      278.5\n",
      "\n",
      "\n",
      "\n",
      "ibmq_santiago\n",
      "-------------\n",
      "Num. Qubits:  5\n",
      "Pending Jobs: 2079\n",
      "Least busy:   False\n",
      "Operational:  False\n",
      "Avg. T1:      78.5\n",
      "Avg. T2:      99.3\n",
      "\n",
      "\n",
      "\n",
      "least busy backend:  ibmq_lima\n"
     ]
    }
   ],
   "source": [
    "from qiskit.tools.monitor import backend_overview\n",
    "backend_overview()\n",
    "provider = IBMQ.get_provider(hub='ibm-q')\n",
    "provider.backends()\n",
    "backend = least_busy(provider.backends(filters=lambda x: x.configuration().n_qubits <= 5 and\n",
    "                                   x.configuration().n_qubits >= 2 and\n",
    "                                   not x.configuration().simulator and x.status().operational==True))\n",
    "print(\"least busy backend: \", backend)"
   ]
  },
  {
   "cell_type": "code",
   "execution_count": null,
   "id": "fd4e4b64",
   "metadata": {},
   "outputs": [
    {
     "name": "stdout",
     "output_type": "stream",
     "text": [
      "Job Status: job is queued (10)    "
     ]
    }
   ],
   "source": [
    "# Run our circuit on the least busy backend. Monitor the execution of the job in the queue\n",
    "from qiskit.tools.monitor import job_monitor\n",
    "\n",
    "timeList_real=[]\n",
    "answerList_real=[]\n",
    "shots = 1024\n",
    "for s in sList:\n",
    "    circuit=buildQTcirc(s) #construct circuit\n",
    "    circ_real = transpile(circuit, backend) #tranpile the circuit\n",
    "    job = backend.run(circ_real, shots=shots)#create a job for execution\n",
    "\n",
    "    job_monitor(job, interval=2)#monitorize the job\n",
    "    # Get the results from the computation\n",
    "    results_real = job.result()#get the results of the circuit execution\n",
    "    answer_real = results_real.get_counts() #get the counts from the results\n",
    "    answerList_real.append(answer_real)#append the answer to the list\n",
    "    time_real=results_real.time_taken #get the time taken of the circuit execution\n",
    "    timeList_real.append(time_real) #append the time to the list\n",
    "    \n",
    "print(answerList_real)    \n",
    "print(timeList_real)"
   ]
  },
  {
   "cell_type": "code",
   "execution_count": 11,
   "id": "51548046",
   "metadata": {},
   "outputs": [],
   "source": [
    "#classical approach\n",
    "#qeury the oracle with a binary string with only one '1' in all possible positions\n",
    "\n",
    "#define a oracle where f(x)=s*x mod 2\n",
    "def oracle(s, input, n):\n",
    "    sum=0\n",
    "    #bit product function of s and input\n",
    "    for i in range(n):\n",
    "        sum+=int(s[i])*int(input[i])\n",
    "    ret=sum%2\n",
    "    return ret"
   ]
  },
  {
   "cell_type": "code",
   "execution_count": 12,
   "id": "566e1859",
   "metadata": {},
   "outputs": [],
   "source": [
    "#qeury the oracle\n",
    "def qeuryOracle(s, n):\n",
    "    result=''\n",
    "    for i in range(n):\n",
    "            input=''\n",
    "            for j in range(n):\n",
    "                if j<i:\n",
    "                    input+='0'\n",
    "                elif j==i:\n",
    "                    input+='1'\n",
    "                elif j>i:\n",
    "                    input+='0'\n",
    "            if oracle(s, input, n)==1:\n",
    "                result+='1'\n",
    "            else:\n",
    "                result+='0'\n",
    "    return result"
   ]
  },
  {
   "cell_type": "code",
   "execution_count": 14,
   "id": "3435525a",
   "metadata": {},
   "outputs": [
    {
     "name": "stdout",
     "output_type": "stream",
     "text": [
      "1.73 µs ± 28.3 ns per loop (mean ± std. dev. of 7 runs, 1000000 loops each)\n",
      "4.41 µs ± 149 ns per loop (mean ± std. dev. of 7 runs, 100000 loops each)\n",
      "8.12 µs ± 208 ns per loop (mean ± std. dev. of 7 runs, 100000 loops each)\n",
      "13 µs ± 243 ns per loop (mean ± std. dev. of 7 runs, 100000 loops each)\n",
      "['0', '00', '011', '0110']\n"
     ]
    }
   ],
   "source": [
    "answerList_classical=[]\n",
    "timeList_classical=[]\n",
    "for s in sList:\n",
    "    n=len(s)\n",
    "    %timeit qeuryOracle(s, n)\n",
    "    answer=qeuryOracle(s, n)\n",
    "    answerList_classical.append(answer)\n",
    "print(answerList_classical)"
   ]
  },
  {
   "cell_type": "code",
   "execution_count": 16,
   "id": "f93e596d",
   "metadata": {},
   "outputs": [
    {
     "name": "stdout",
     "output_type": "stream",
     "text": [
      "[1.73e-06, 4.41e-06, 8.12e-06, 1.3e-05]\n",
      "[0.0030066967, 0.0029921532, 0.0029883385, 0.0020451546]\n",
      "[3.154468774, 3.617537021, 4.122985839, 4.183508157]\n"
     ]
    },
    {
     "data": {
      "text/plain": [
       "Text(0.5, 1.0, 'Bernstein-Vazirani algorithm runtime')"
      ]
     },
     "execution_count": 16,
     "metadata": {},
     "output_type": "execute_result"
    },
    {
     "data": {
      "image/png": "[encoded data removed]",
      "text/plain": [
       "<Figure size 432x288 with 1 Axes>"
      ]
     },
     "metadata": {
      "needs_background": "light"
     },
     "output_type": "display_data"
    },
    {
     "data": {
      "image/png": "[encoded data removed]",
      "text/plain": [
       "<Figure size 432x288 with 1 Axes>"
      ]
     },
     "metadata": {
      "needs_background": "light"
     },
     "output_type": "display_data"
    },
    {
     "data": {
      "image/png": "[encoded data removed]",
      "text/plain": [
       "<Figure size 432x288 with 1 Axes>"
      ]
     },
     "metadata": {
      "needs_background": "light"
     },
     "output_type": "display_data"
    },
    {
     "data": {
      "image/png": "[encoded data removed]",
      "text/plain": [
       "<Figure size 432x288 with 1 Axes>"
      ]
     },
     "metadata": {
      "needs_background": "light"
     },
     "output_type": "display_data"
    }
   ],
   "source": [
    "#runtime obtained from above cells\n",
    "timeList_classical=[1.73e-6, 4.41e-6, 8.12e-6, 13e-6]\n",
    "timeList_sim=[0.0030066967, 0.0029921532, 0.0029883385, 0.0020451546]\n",
    "timeList_real=[3.154468774, 3.617537021, 4.122985839, 4.183508157]\n",
    "n=[1, 2, 3, 4]\n",
    "print(timeList_classical)\n",
    "print(timeList_sim)\n",
    "print(timeList_real)\n",
    "\n",
    "fig, ax1=plt.subplots()\n",
    "ax1.plot(n,timeList_classical, label=\"Classcial Approach\")\n",
    "ax1.set_xlabel(\"secret binary string size(qubits)\")\n",
    "ax1.set_ylabel(\"time(s)\")\n",
    "ax1.legend()\n",
    "plt.title(\"Bernstein-Vazirani algorithm runtime\")\n",
    "\n",
    "fig, ax2=plt.subplots()\n",
    "ax2.plot(n,timeList_sim, label=\"Quantum Approach-simulator\")\n",
    "ax2.set_xlabel(\"secret binary string size(qubits)\")\n",
    "ax2.set_ylabel(\"time(s)\")\n",
    "ax2.legend()\n",
    "plt.title(\"Bernstein-Vazirani algorithm runtime\")\n",
    "\n",
    "fig, ax3=plt.subplots()\n",
    "ax3.plot(n,timeList_real, label=\"Qauntum Approach-real device\")\n",
    "ax3.set_xlabel(\"secret binary string size(qubits)\")\n",
    "ax3.set_ylabel(\"time(s)\")\n",
    "ax3.legend()\n",
    "plt.title(\"Bernstein-Vazirani algorithm runtime\")\n",
    "\n",
    "fig, ax4=plt.subplots()\n",
    "ax4.plot(n,timeList_classical, label=\"Classcial Approach\")\n",
    "ax4.plot(n,timeList_sim, label=\"Quantum Approach-simulator\")\n",
    "#ax4.plot(n,timeList_real, label=\"Qauntum Approach-real device\")\n",
    "ax4.set_xlabel(\"secret binary string size(qubits)\")\n",
    "ax4.set_ylabel(\"time(s)\")\n",
    "ax4.legend()\n",
    "plt.title(\"Bernstein-Vazirani algorithm runtime\")"
   ]
  },
  {
   "cell_type": "code",
   "execution_count": null,
   "id": "157afce2",
   "metadata": {},
   "outputs": [],
   "source": []
  }
 ],
 "metadata": {
  "kernelspec": {
   "display_name": "Python 3",
   "language": "python",
   "name": "python3"
  },
  "language_info": {
   "codemirror_mode": {
    "name": "ipython",
    "version": 3
   },
   "file_extension": ".py",
   "mimetype": "text/x-python",
   "name": "python",
   "nbconvert_exporter": "python",
   "pygments_lexer": "ipython3",
   "version": "3.8.8"
  }
 },
 "nbformat": 4,
 "nbformat_minor": 5
}
